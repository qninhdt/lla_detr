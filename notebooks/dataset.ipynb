{
 "cells": [
  {
   "cell_type": "code",
   "execution_count": 1,
   "metadata": {},
   "outputs": [],
   "source": [
    "import os, sys\n",
    "\n",
    "sys.path.append(os.path.abspath(os.path.join(\"../src\")))"
   ]
  },
  {
   "cell_type": "code",
   "execution_count": 2,
   "metadata": {},
   "outputs": [],
   "source": [
    "from datasets.bdd100k_datamodule import BDD100KDataModule\n",
    "\n",
    "dataset = BDD100KDataModule(\"../datasets/bdd100k/\", \"100k\", 1, 2, 10, False, (540, 960))"
   ]
  },
  {
   "cell_type": "code",
   "execution_count": 3,
   "metadata": {},
   "outputs": [
    {
     "name": "stderr",
     "output_type": "stream",
     "text": [
      "Loading train labels: 100%|██████████| 69863/69863 [00:02<00:00, 23336.52it/s]\n",
      "Loading val labels: 100%|██████████| 10000/10000 [00:00<00:00, 79848.31it/s]\n"
     ]
    }
   ],
   "source": [
    "dataset.setup()"
   ]
  },
  {
   "cell_type": "code",
   "execution_count": 4,
   "metadata": {},
   "outputs": [],
   "source": [
    "train_loader = dataset.train_dataloader()"
   ]
  },
  {
   "cell_type": "code",
   "execution_count": 5,
   "metadata": {},
   "outputs": [
    {
     "name": "stdout",
     "output_type": "stream",
     "text": [
      "torch.Size([7, 4])torch.Size([1, 4]) torch.Size([7, 4])\n",
      " "
     ]
    }
   ],
   "source": [
    "loader = iter(train_loader)"
   ]
  },
  {
   "cell_type": "code",
   "execution_count": 6,
   "metadata": {},
   "outputs": [
    {
     "name": "stdout",
     "output_type": "stream",
     "text": [
      "torch.Size([6, 4])torch.Size([13, 4])  torch.Size([1, 4])torch.Size([1, 4])\n",
      "torch.Size([1, 4]) torch.Size([19, 4]) torch.Size([1, 4]) torch.Size([8, 4])torch.Size([1, 4])\n",
      "torch.Size([1, 4])\n",
      "\n",
      " torch.Size([1, 4])torch.Size([26, 4])torch.Size([24, 4])\n",
      " torch.Size([1, 4]) \n",
      "torch.Size([5, 4])torch.Size([1, 4])torch.Size([2, 4]) torch.Size([12, 4])  torch.Size([1, 4])\n",
      "\n",
      "torch.Size([8, 4]) torch.Size([1, 4])torch.Size([1, 4])\n",
      "torch.Size([11, 4])torch.Size([8, 4])\n",
      "torch.Size([23, 4]) torch.Size([1, 4]) torch.Size([1, 4]) \n",
      "torch.Size([1, 4])\n",
      "torch.Size([1, 4])\n",
      "torch.Size([8, 4]) torch.Size([1, 4])torch.Size([7, 4])\n",
      "\n",
      " torch.Size([9, 4])torch.Size([1, 4])torch.Size([14, 4]) torch.Size([8, 4])torch.Size([17, 4])torch.Size([8, 4])  \n",
      " torch.Size([1, 4])torch.Size([1, 4])torch.Size([1, 4])torch.Size([1, 4])\n",
      "\n",
      "torch.Size([21, 4]) \n",
      " \n",
      "torch.Size([1, 4])torch.Size([1, 4])\n",
      "\n",
      "torch.Size([14, 4])torch.Size([31, 4])torch.Size([33, 4])   torch.Size([1, 4])torch.Size([44, 4])\n",
      "torch.Size([1, 4])torch.Size([26, 4])torch.Size([36, 4])\n",
      "   torch.Size([1, 4])torch.Size([1, 4])torch.Size([1, 4])torch.Size([1, 4])\n",
      "\n",
      "\n",
      "torch.Size([28, 4])\n",
      " torch.Size([31, 4]) torch.Size([1, 4])torch.Size([1, 4])\n",
      "\n",
      "torch.Size([32, 4]) torch.Size([1, 4])torch.Size([5, 4])\n",
      " torch.Size([1, 4])\n",
      "torch.Size([26, 4]) torch.Size([1, 4])\n",
      "torch.Size([33, 4]) \n",
      "torch.Size([1, 4])torch.Size([16, 4]) torch.Size([1, 4])\n",
      "torch.Size([12, 4]) torch.Size([17, 4]) torch.Size([1, 4])\n",
      "torch.Size([1, 4])\n",
      "torch.Size([4, 4]) torch.Size([1, 4])\n",
      "torch.Size([17, 4]) torch.Size([1, 4])\n",
      "torch.Size([17, 4]) torch.Size([1, 4])\n",
      "torch.Size([26, 4]) torch.Size([1, 4])\n",
      "torch.Size([25, 4]) torch.Size([1, 4])\n",
      "torch.Size([2, 4]) torch.Size([1, 4])\n",
      "torch.Size([32, 4]) torch.Size([1, 4])\n",
      "torch.Size([15, 4]) torch.Size([1, 4])\n",
      "torch.Size([7, 4])\n",
      " torch.Size([1, 4])torch.Size([16, 4]) torch.Size([1, 4])\n",
      "torch.Size([12, 4]) torch.Size([1, 4])\n",
      "torch.Size([11, 4]) torch.Size([1, 4])\n",
      "torch.Size([10, 4]) torch.Size([1, 4])\n",
      "torch.Size([7, 4]) torch.Size([1, 4])\n",
      "torch.Size([19, 4]) torch.Size([1, 4])\n",
      "torch.Size([18, 4]) torch.Size([1, 4])\n",
      "torch.Size([16, 4]) torch.Size([1, 4])\n",
      "torch.Size([15, 4]) torch.Size([1, 4])\n",
      "torch.Size([18, 4]) torch.Size([1, 4])\n",
      "torch.Size([24, 4]) \n",
      "torch.Size([1, 4])torch.Size([1, 4]) torch.Size([1, 4])\n",
      "torch.Size([10, 4]) torch.Size([1, 4])\n",
      "torch.Size([11, 4]) torch.Size([1, 4])\n",
      "torch.Size([13, 4]) torch.Size([1, 4])\n",
      "torch.Size([20, 4]) torch.Size([1, 4])\n",
      "torch.Size([8, 4]) torch.Size([1, 4])\n",
      "torch.Size([6, 4]) torch.Size([1, 4])\n",
      "torch.Size([0]) torch.Size([1, 4])\n",
      "torch.Size([21, 4]) torch.Size([1, 4])\n",
      "torch.Size([23, 4]) torch.Size([1, 4])\n",
      "torch.Size([28, 4]) torch.Size([1, 4])\n",
      "torch.Size([31, 4]) torch.Size([1, 4])\n",
      "torch.Size([24, 4]) torch.Size([1, 4])\n",
      "torch.Size([21, 4]) torch.Size([1, 4])\n",
      "torch.Size([6, 4]) \n",
      "torch.Size([1, 4])torch.Size([18, 4]) torch.Size([1, 4])\n",
      "torch.Size([43, 4]) torch.Size([1, 4])\n",
      "torch.Size([26, 4]) torch.Size([1, 4])\n",
      "torch.Size([11, 4]) torch.Size([1, 4])\n",
      "torch.Size([8, 4]) torch.Size([1, 4])\n",
      "torch.Size([23, 4])\n",
      " torch.Size([1, 4])torch.Size([14, 4]) torch.Size([1, 4])\n",
      "torch.Size([0]) torch.Size([1, 4])\n",
      "torch.Size([14, 4]) torch.Size([1, 4])\n",
      "torch.Size([12, 4]) torch.Size([1, 4])\n",
      "torch.Size([6, 4]) torch.Size([1, 4])\n",
      "torch.Size([8, 4]) torch.Size([1, 4])\n",
      "torch.Size([4, 4]) torch.Size([1, 4])\n",
      "torch.Size([12, 4]) torch.Size([1, 4])\n",
      "torch.Size([1, 4]) torch.Size([1, 4])\n",
      "torch.Size([23, 4]) torch.Size([1, 4])\n",
      "torch.Size([18, 4]) torch.Size([1, 4])\n",
      "torch.Size([4, 4]) torch.Size([1, 4])\n",
      "torch.Size([23, 4]) torch.Size([1, 4])\n",
      "torch.Size([15, 4]) torch.Size([1, 4])\n",
      "torch.Size([16, 4]) torch.Size([1, 4])\n",
      "torch.Size([9, 4]) torch.Size([1, 4])\n",
      "torch.Size([15, 4]) torch.Size([1, 4])\n",
      "torch.Size([10, 4]) torch.Size([1, 4])\n",
      "torch.Size([19, 4]) torch.Size([1, 4])\n",
      "torch.Size([17, 4]) torch.Size([1, 4])\n",
      "torch.Size([14, 4]) torch.Size([1, 4])\n",
      "torch.Size([22, 4]) torch.Size([1, 4])\n",
      "torch.Size([26, 4]) torch.Size([1, 4])\n",
      "torch.Size([12, 4]) torch.Size([1, 4])\n",
      "torch.Size([0]) torch.Size([1, 4])\n",
      "torch.Size([5, 4]) torch.Size([1, 4])\n",
      "torch.Size([14, 4]) torch.Size([1, 4])\n",
      "torch.Size([4, 4]) torch.Size([1, 4])\n",
      "torch.Size([8, 4]) torch.Size([1, 4])\n",
      "torch.Size([4, 4]) torch.Size([1, 4])\n",
      "torch.Size([29, 4]) torch.Size([1, 4])\n",
      "torch.Size([10, 4]) torch.Size([1, 4])\n",
      "torch.Size([16, 4]) torch.Size([1, 4])\n",
      "torch.Size([16, 4]) torch.Size([1, 4])\n",
      "torch.Size([16, 4]) torch.Size([1, 4])\n",
      "torch.Size([21, 4]) torch.Size([1, 4])\n",
      "torch.Size([7, 4]) torch.Size([1, 4])\n",
      "torch.Size([19, 4])\n",
      " torch.Size([1, 4])torch.Size([18, 4]) torch.Size([1, 4])\n",
      "torch.Size([9, 4]) torch.Size([1, 4])\n",
      "torch.Size([26, 4]) torch.Size([1, 4])\n"
     ]
    }
   ],
   "source": [
    "from PIL import Image\n",
    "import matplotlib.pyplot as plt\n",
    "import numpy as np\n",
    "\n",
    "\n",
    "def plot(img, label):\n",
    "    boxes = label[\"boxes\"]\n",
    "    labels = label[\"labels\"]\n",
    "\n",
    "    img = np.array(img)\n",
    "\n",
    "    # unnormalize with mean and std\n",
    "    img = (\n",
    "        img * np.array([0.229, 0.224, 0.225])[:, None, None]\n",
    "        + np.array([0.485, 0.456, 0.406])[:, None, None]\n",
    "    )\n",
    "    img = np.clip(img, 0, 1)\n",
    "    img = np.transpose(img, (1, 2, 0))\n",
    "\n",
    "    plt.imshow(img)\n",
    "\n",
    "    for i in range(len(boxes)):\n",
    "        box = boxes[i]\n",
    "        label = labels[i]\n",
    "        plt.gca().add_patch(\n",
    "            plt.Rectangle(\n",
    "                (box[0], box[1]),\n",
    "                box[2] - box[0],\n",
    "                box[3] - box[1],\n",
    "                fill=False,\n",
    "                edgecolor=\"r\",\n",
    "                linewidth=2,\n",
    "            )\n",
    "        )\n",
    "\n",
    "    plt.show()"
   ]
  },
  {
   "cell_type": "code",
   "execution_count": 48,
   "metadata": {},
   "outputs": [
    {
     "ename": "RuntimeError",
     "evalue": "Caught RuntimeError in DataLoader worker process 1.\nOriginal Traceback (most recent call last):\n  File \"/home/qninhdt/miniconda3/envs/wa/lib/python3.10/site-packages/torch/utils/data/_utils/worker.py\", line 308, in _worker_loop\n    data = fetcher.fetch(index)\n  File \"/home/qninhdt/miniconda3/envs/wa/lib/python3.10/site-packages/torch/utils/data/_utils/fetch.py\", line 51, in fetch\n    data = [self.dataset[idx] for idx in possibly_batched_index]\n  File \"/home/qninhdt/miniconda3/envs/wa/lib/python3.10/site-packages/torch/utils/data/_utils/fetch.py\", line 51, in <listcomp>\n    data = [self.dataset[idx] for idx in possibly_batched_index]\n  File \"/home/qninhdt/projects/lla_detr/src/utils/dataset.py\", line 49, in __getitem__\n    target[\"nboxes\"] = box_xyxy_to_cxcywh(target[\"boxes\"] / scale)\nRuntimeError: The size of tensor a (0) must match the size of tensor b (4) at non-singleton dimension 1\n",
     "output_type": "error",
     "traceback": [
      "\u001b[0;31m---------------------------------------------------------------------------\u001b[0m",
      "\u001b[0;31mRuntimeError\u001b[0m                              Traceback (most recent call last)",
      "Cell \u001b[0;32mIn[48], line 1\u001b[0m\n\u001b[0;32m----> 1\u001b[0m batch \u001b[38;5;241m=\u001b[39m \u001b[38;5;28;43mnext\u001b[39;49m\u001b[43m(\u001b[49m\u001b[43mloader\u001b[49m\u001b[43m)\u001b[49m\n\u001b[1;32m      2\u001b[0m plot(batch[\u001b[38;5;241m0\u001b[39m]\u001b[38;5;241m.\u001b[39mtensors[\u001b[38;5;241m0\u001b[39m], batch[\u001b[38;5;241m1\u001b[39m][\u001b[38;5;241m0\u001b[39m])\n",
      "File \u001b[0;32m~/miniconda3/envs/wa/lib/python3.10/site-packages/torch/utils/data/dataloader.py:630\u001b[0m, in \u001b[0;36m_BaseDataLoaderIter.__next__\u001b[0;34m(self)\u001b[0m\n\u001b[1;32m    627\u001b[0m \u001b[38;5;28;01mif\u001b[39;00m \u001b[38;5;28mself\u001b[39m\u001b[38;5;241m.\u001b[39m_sampler_iter \u001b[38;5;129;01mis\u001b[39;00m \u001b[38;5;28;01mNone\u001b[39;00m:\n\u001b[1;32m    628\u001b[0m     \u001b[38;5;66;03m# TODO(https://github.com/pytorch/pytorch/issues/76750)\u001b[39;00m\n\u001b[1;32m    629\u001b[0m     \u001b[38;5;28mself\u001b[39m\u001b[38;5;241m.\u001b[39m_reset()  \u001b[38;5;66;03m# type: ignore[call-arg]\u001b[39;00m\n\u001b[0;32m--> 630\u001b[0m data \u001b[38;5;241m=\u001b[39m \u001b[38;5;28;43mself\u001b[39;49m\u001b[38;5;241;43m.\u001b[39;49m\u001b[43m_next_data\u001b[49m\u001b[43m(\u001b[49m\u001b[43m)\u001b[49m\n\u001b[1;32m    631\u001b[0m \u001b[38;5;28mself\u001b[39m\u001b[38;5;241m.\u001b[39m_num_yielded \u001b[38;5;241m+\u001b[39m\u001b[38;5;241m=\u001b[39m \u001b[38;5;241m1\u001b[39m\n\u001b[1;32m    632\u001b[0m \u001b[38;5;28;01mif\u001b[39;00m \u001b[38;5;28mself\u001b[39m\u001b[38;5;241m.\u001b[39m_dataset_kind \u001b[38;5;241m==\u001b[39m _DatasetKind\u001b[38;5;241m.\u001b[39mIterable \u001b[38;5;129;01mand\u001b[39;00m \\\n\u001b[1;32m    633\u001b[0m         \u001b[38;5;28mself\u001b[39m\u001b[38;5;241m.\u001b[39m_IterableDataset_len_called \u001b[38;5;129;01mis\u001b[39;00m \u001b[38;5;129;01mnot\u001b[39;00m \u001b[38;5;28;01mNone\u001b[39;00m \u001b[38;5;129;01mand\u001b[39;00m \\\n\u001b[1;32m    634\u001b[0m         \u001b[38;5;28mself\u001b[39m\u001b[38;5;241m.\u001b[39m_num_yielded \u001b[38;5;241m>\u001b[39m \u001b[38;5;28mself\u001b[39m\u001b[38;5;241m.\u001b[39m_IterableDataset_len_called:\n",
      "File \u001b[0;32m~/miniconda3/envs/wa/lib/python3.10/site-packages/torch/utils/data/dataloader.py:1345\u001b[0m, in \u001b[0;36m_MultiProcessingDataLoaderIter._next_data\u001b[0;34m(self)\u001b[0m\n\u001b[1;32m   1343\u001b[0m \u001b[38;5;28;01melse\u001b[39;00m:\n\u001b[1;32m   1344\u001b[0m     \u001b[38;5;28;01mdel\u001b[39;00m \u001b[38;5;28mself\u001b[39m\u001b[38;5;241m.\u001b[39m_task_info[idx]\n\u001b[0;32m-> 1345\u001b[0m     \u001b[38;5;28;01mreturn\u001b[39;00m \u001b[38;5;28;43mself\u001b[39;49m\u001b[38;5;241;43m.\u001b[39;49m\u001b[43m_process_data\u001b[49m\u001b[43m(\u001b[49m\u001b[43mdata\u001b[49m\u001b[43m)\u001b[49m\n",
      "File \u001b[0;32m~/miniconda3/envs/wa/lib/python3.10/site-packages/torch/utils/data/dataloader.py:1371\u001b[0m, in \u001b[0;36m_MultiProcessingDataLoaderIter._process_data\u001b[0;34m(self, data)\u001b[0m\n\u001b[1;32m   1369\u001b[0m \u001b[38;5;28mself\u001b[39m\u001b[38;5;241m.\u001b[39m_try_put_index()\n\u001b[1;32m   1370\u001b[0m \u001b[38;5;28;01mif\u001b[39;00m \u001b[38;5;28misinstance\u001b[39m(data, ExceptionWrapper):\n\u001b[0;32m-> 1371\u001b[0m     \u001b[43mdata\u001b[49m\u001b[38;5;241;43m.\u001b[39;49m\u001b[43mreraise\u001b[49m\u001b[43m(\u001b[49m\u001b[43m)\u001b[49m\n\u001b[1;32m   1372\u001b[0m \u001b[38;5;28;01mreturn\u001b[39;00m data\n",
      "File \u001b[0;32m~/miniconda3/envs/wa/lib/python3.10/site-packages/torch/_utils.py:694\u001b[0m, in \u001b[0;36mExceptionWrapper.reraise\u001b[0;34m(self)\u001b[0m\n\u001b[1;32m    690\u001b[0m \u001b[38;5;28;01mexcept\u001b[39;00m \u001b[38;5;167;01mTypeError\u001b[39;00m:\n\u001b[1;32m    691\u001b[0m     \u001b[38;5;66;03m# If the exception takes multiple arguments, don't try to\u001b[39;00m\n\u001b[1;32m    692\u001b[0m     \u001b[38;5;66;03m# instantiate since we don't know how to\u001b[39;00m\n\u001b[1;32m    693\u001b[0m     \u001b[38;5;28;01mraise\u001b[39;00m \u001b[38;5;167;01mRuntimeError\u001b[39;00m(msg) \u001b[38;5;28;01mfrom\u001b[39;00m \u001b[38;5;28;01mNone\u001b[39;00m\n\u001b[0;32m--> 694\u001b[0m \u001b[38;5;28;01mraise\u001b[39;00m exception\n",
      "\u001b[0;31mRuntimeError\u001b[0m: Caught RuntimeError in DataLoader worker process 1.\nOriginal Traceback (most recent call last):\n  File \"/home/qninhdt/miniconda3/envs/wa/lib/python3.10/site-packages/torch/utils/data/_utils/worker.py\", line 308, in _worker_loop\n    data = fetcher.fetch(index)\n  File \"/home/qninhdt/miniconda3/envs/wa/lib/python3.10/site-packages/torch/utils/data/_utils/fetch.py\", line 51, in fetch\n    data = [self.dataset[idx] for idx in possibly_batched_index]\n  File \"/home/qninhdt/miniconda3/envs/wa/lib/python3.10/site-packages/torch/utils/data/_utils/fetch.py\", line 51, in <listcomp>\n    data = [self.dataset[idx] for idx in possibly_batched_index]\n  File \"/home/qninhdt/projects/lla_detr/src/utils/dataset.py\", line 49, in __getitem__\n    target[\"nboxes\"] = box_xyxy_to_cxcywh(target[\"boxes\"] / scale)\nRuntimeError: The size of tensor a (0) must match the size of tensor b (4) at non-singleton dimension 1\n"
     ]
    }
   ],
   "source": [
    "batch = next(loader)\n",
    "plot(batch[0].tensors[0], batch[1][0])"
   ]
  }
 ],
 "metadata": {
  "kernelspec": {
   "display_name": "wa",
   "language": "python",
   "name": "python3"
  },
  "language_info": {
   "codemirror_mode": {
    "name": "ipython",
    "version": 3
   },
   "file_extension": ".py",
   "mimetype": "text/x-python",
   "name": "python",
   "nbconvert_exporter": "python",
   "pygments_lexer": "ipython3",
   "version": "3.10.13"
  }
 },
 "nbformat": 4,
 "nbformat_minor": 2
}
