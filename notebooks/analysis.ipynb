{
 "cells": [
  {
   "cell_type": "code",
   "execution_count": 19,
   "metadata": {},
   "outputs": [],
   "source": [
    "import json\n",
    "import torch\n",
    "import matplotlib.pyplot as plt"
   ]
  },
  {
   "cell_type": "code",
   "execution_count": 29,
   "metadata": {},
   "outputs": [],
   "source": [
    "with open(\"../baselines/retinanet_pvtv2-b2_fpn_3x_det_bdd100k.json\") as f:\n",
    "    categories = set()\n",
    "    data = json.load(f)\n",
    "\n",
    "    for img in data[\"frames\"]:\n",
    "        categories.update([ann[\"category\"] for ann in img[\"labels\"]])"
   ]
  },
  {
   "cell_type": "code",
   "execution_count": 30,
   "metadata": {},
   "outputs": [
    {
     "data": {
      "text/plain": [
       "{'bicycle',\n",
       " 'bus',\n",
       " 'car',\n",
       " 'motorcycle',\n",
       " 'pedestrian',\n",
       " 'rider',\n",
       " 'traffic light',\n",
       " 'traffic sign',\n",
       " 'train',\n",
       " 'truck'}"
      ]
     },
     "execution_count": 30,
     "metadata": {},
     "output_type": "execute_result"
    }
   ],
   "source": [
    "categories"
   ]
  },
  {
   "cell_type": "code",
   "execution_count": 35,
   "metadata": {},
   "outputs": [],
   "source": [
    "with open(\"../datasets/bdd100k/labels/bdd100k_labels_images_val_.json\") as f:\n",
    "    data = json.load(f)"
   ]
  },
  {
   "cell_type": "code",
   "execution_count": 36,
   "metadata": {},
   "outputs": [
    {
     "data": {
      "text/plain": [
       "10000"
      ]
     },
     "execution_count": 36,
     "metadata": {},
     "output_type": "execute_result"
    }
   ],
   "source": [
    "len(data)"
   ]
  },
  {
   "cell_type": "code",
   "execution_count": 38,
   "metadata": {},
   "outputs": [],
   "source": [
    "reduced_data = []\n",
    "\n",
    "for image in data:\n",
    "    reduced_data.append(\n",
    "        {\n",
    "            \"name\": image[\"name\"],\n",
    "            \"attributes\": {\"timeofday\": image[\"attributes\"][\"timeofday\"]},\n",
    "            \"labels\": [\n",
    "                {\"category\": label[\"category\"], \"box2d\": label[\"box2d\"]}\n",
    "                for label in image[\"labels\"]\n",
    "                if label[\"category\"] in categories\n",
    "            ],\n",
    "        }\n",
    "    )\n",
    "\n",
    "with open(\n",
    "    \"../datasets/bdd100k/labels/bdd100k_labels_images_val_reduced.json\", \"w\"\n",
    ") as f:\n",
    "    json.dump(reduced_data, f)"
   ]
  },
  {
   "cell_type": "code",
   "execution_count": 39,
   "metadata": {},
   "outputs": [
    {
     "data": {
      "text/plain": [
       "{'bicycle',\n",
       " 'bus',\n",
       " 'car',\n",
       " 'motorcycle',\n",
       " 'pedestrian',\n",
       " 'rider',\n",
       " 'traffic light',\n",
       " 'traffic sign',\n",
       " 'train',\n",
       " 'truck'}"
      ]
     },
     "execution_count": 39,
     "metadata": {},
     "output_type": "execute_result"
    }
   ],
   "source": [
    "categories"
   ]
  },
  {
   "cell_type": "code",
   "execution_count": 7,
   "metadata": {},
   "outputs": [],
   "source": [
    "def display_image(image_name):\n",
    "    plt.imshow(plt.imread(\"../dataset/bdd100k/images/100k/train/\" + image_name))\n",
    "    plt.show()"
   ]
  },
  {
   "cell_type": "code",
   "execution_count": 13,
   "metadata": {},
   "outputs": [],
   "source": [
    "categorie_to_id = {\n",
    "    \"bike\": 0,\n",
    "    \"bus\": 1,\n",
    "    \"car\": 2,\n",
    "    \"drivable area\": 3,\n",
    "    \"lane\": 4,\n",
    "    \"motor\": 5,\n",
    "    \"person\": 6,\n",
    "    \"rider\": 7,\n",
    "    \"traffic light\": 8,\n",
    "    \"traffic sign\": 9,\n",
    "    \"train\": 10,\n",
    "    \"truck\": 11,\n",
    "}"
   ]
  },
  {
   "cell_type": "code",
   "execution_count": 14,
   "metadata": {},
   "outputs": [],
   "source": [
    "day_images = set()\n",
    "night_images = set()\n",
    "\n",
    "for image in data:\n",
    "    if image[\"attributes\"][\"timeofday\"] == \"daytime\":\n",
    "        day_images.add(image[\"name\"])\n",
    "    elif image[\"attributes\"][\"timeofday\"] == \"night\":\n",
    "        night_images.add(image[\"name\"])"
   ]
  },
  {
   "cell_type": "code",
   "execution_count": 16,
   "metadata": {},
   "outputs": [],
   "source": [
    "def to_tensor(images, score=False, weather=None, timeofday=None):\n",
    "    sorted_images = sorted(images, key=lambda x: x[\"name\"])\n",
    "\n",
    "    results = []\n",
    "    for img in sorted_images:\n",
    "        if score:\n",
    "            if timeofday == \"daytime\" and img[\"name\"] not in day_images:\n",
    "                continue\n",
    "            if timeofday == \"night\" and img[\"name\"] not in night_images:\n",
    "                continue\n",
    "        else:\n",
    "            if weather is not None and img[\"attributes\"][\"weather\"] != weather:\n",
    "                continue\n",
    "            if timeofday is not None and img[\"attributes\"][\"timeofday\"] != timeofday:\n",
    "                continue\n",
    "\n",
    "        labels = img[\"labels\"]\n",
    "        labels = [l for l in labels if \"box2d\" in l and l[\"box2d\"] is not None]\n",
    "        boxes = [l[\"box2d\"] for l in labels]\n",
    "        boxes = [[b[\"x1\"], b[\"y1\"], b[\"x2\"], b[\"y2\"]] for b in boxes]\n",
    "        boxes = torch.tensor(boxes)\n",
    "\n",
    "        categories = [l[\"category\"] for l in labels]\n",
    "        categories = [categorie_to_id[c] for c in categories]\n",
    "        categories = torch.tensor(categories)\n",
    "\n",
    "        result = {\"boxes\": boxes, \"labels\": categories}\n",
    "\n",
    "        if score:\n",
    "            scores = [l[\"score\"] for l in labels]\n",
    "            scores = torch.tensor(scores)\n",
    "            result[\"scores\"] = scores\n",
    "\n",
    "        results.append(result)\n",
    "\n",
    "    return results"
   ]
  },
  {
   "cell_type": "code",
   "execution_count": 17,
   "metadata": {},
   "outputs": [
    {
     "data": {
      "text/plain": [
       "(36728, 27971)"
      ]
     },
     "execution_count": 17,
     "metadata": {},
     "output_type": "execute_result"
    }
   ],
   "source": [
    "gt = to_tensor(data)\n",
    "day = to_tensor(data, timeofday=\"daytime\")\n",
    "night = to_tensor(data, timeofday=\"night\")\n",
    "len(day), len(night)"
   ]
  },
  {
   "cell_type": "code",
   "execution_count": 18,
   "metadata": {},
   "outputs": [
    {
     "ename": "KeyboardInterrupt",
     "evalue": "",
     "output_type": "error",
     "traceback": [
      "\u001b[0;31m---------------------------------------------------------------------------\u001b[0m",
      "\u001b[0;31mKeyboardInterrupt\u001b[0m                         Traceback (most recent call last)",
      "Cell \u001b[0;32mIn[18], line 32\u001b[0m\n\u001b[1;32m     30\u001b[0m mAP\u001b[38;5;241m.\u001b[39mupdate(preds, gt)\n\u001b[1;32m     31\u001b[0m mAP\u001b[38;5;241m.\u001b[39mcpu()\n\u001b[0;32m---> 32\u001b[0m \u001b[43mmAP\u001b[49m\u001b[38;5;241;43m.\u001b[39;49m\u001b[43mcompute\u001b[49m\u001b[43m(\u001b[49m\u001b[43m)\u001b[49m\n",
      "File \u001b[0;32m~/miniconda3/envs/wa/lib/python3.10/site-packages/torchmetrics/metric.py:615\u001b[0m, in \u001b[0;36mMetric._wrap_compute.<locals>.wrapped_func\u001b[0;34m(*args, **kwargs)\u001b[0m\n\u001b[1;32m    607\u001b[0m \u001b[38;5;66;03m# compute relies on the sync context manager to gather the states across processes and apply reduction\u001b[39;00m\n\u001b[1;32m    608\u001b[0m \u001b[38;5;66;03m# if synchronization happened, the current rank accumulated states will be restored to keep\u001b[39;00m\n\u001b[1;32m    609\u001b[0m \u001b[38;5;66;03m# accumulation going if ``should_unsync=True``,\u001b[39;00m\n\u001b[1;32m    610\u001b[0m \u001b[38;5;28;01mwith\u001b[39;00m \u001b[38;5;28mself\u001b[39m\u001b[38;5;241m.\u001b[39msync_context(\n\u001b[1;32m    611\u001b[0m     dist_sync_fn\u001b[38;5;241m=\u001b[39m\u001b[38;5;28mself\u001b[39m\u001b[38;5;241m.\u001b[39mdist_sync_fn,\n\u001b[1;32m    612\u001b[0m     should_sync\u001b[38;5;241m=\u001b[39m\u001b[38;5;28mself\u001b[39m\u001b[38;5;241m.\u001b[39m_to_sync,\n\u001b[1;32m    613\u001b[0m     should_unsync\u001b[38;5;241m=\u001b[39m\u001b[38;5;28mself\u001b[39m\u001b[38;5;241m.\u001b[39m_should_unsync,\n\u001b[1;32m    614\u001b[0m ):\n\u001b[0;32m--> 615\u001b[0m     value \u001b[38;5;241m=\u001b[39m _squeeze_if_scalar(\u001b[43mcompute\u001b[49m\u001b[43m(\u001b[49m\u001b[38;5;241;43m*\u001b[39;49m\u001b[43margs\u001b[49m\u001b[43m,\u001b[49m\u001b[43m \u001b[49m\u001b[38;5;241;43m*\u001b[39;49m\u001b[38;5;241;43m*\u001b[39;49m\u001b[43mkwargs\u001b[49m\u001b[43m)\u001b[49m)\n\u001b[1;32m    617\u001b[0m \u001b[38;5;28;01mif\u001b[39;00m \u001b[38;5;28mself\u001b[39m\u001b[38;5;241m.\u001b[39mcompute_with_cache:\n\u001b[1;32m    618\u001b[0m     \u001b[38;5;28mself\u001b[39m\u001b[38;5;241m.\u001b[39m_computed \u001b[38;5;241m=\u001b[39m value\n",
      "File \u001b[0;32m~/miniconda3/envs/wa/lib/python3.10/site-packages/torchmetrics/detection/mean_ap.py:530\u001b[0m, in \u001b[0;36mMeanAveragePrecision.compute\u001b[0;34m(self)\u001b[0m\n\u001b[1;32m    527\u001b[0m coco_eval\u001b[38;5;241m.\u001b[39mparams\u001b[38;5;241m.\u001b[39mmaxDets \u001b[38;5;241m=\u001b[39m \u001b[38;5;28mself\u001b[39m\u001b[38;5;241m.\u001b[39mmax_detection_thresholds\n\u001b[1;32m    529\u001b[0m coco_eval\u001b[38;5;241m.\u001b[39mevaluate()\n\u001b[0;32m--> 530\u001b[0m \u001b[43mcoco_eval\u001b[49m\u001b[38;5;241;43m.\u001b[39;49m\u001b[43maccumulate\u001b[49m\u001b[43m(\u001b[49m\u001b[43m)\u001b[49m\n\u001b[1;32m    531\u001b[0m coco_eval\u001b[38;5;241m.\u001b[39msummarize()\n\u001b[1;32m    532\u001b[0m stats \u001b[38;5;241m=\u001b[39m coco_eval\u001b[38;5;241m.\u001b[39mstats\n",
      "File \u001b[0;32m~/miniconda3/envs/wa/lib/python3.10/site-packages/pycocotools/cocoeval.py:369\u001b[0m, in \u001b[0;36mCOCOeval.accumulate\u001b[0;34m(self, p)\u001b[0m\n\u001b[1;32m    366\u001b[0m inds \u001b[38;5;241m=\u001b[39m np\u001b[38;5;241m.\u001b[39margsort(\u001b[38;5;241m-\u001b[39mdtScores, kind\u001b[38;5;241m=\u001b[39m\u001b[38;5;124m'\u001b[39m\u001b[38;5;124mmergesort\u001b[39m\u001b[38;5;124m'\u001b[39m)\n\u001b[1;32m    367\u001b[0m dtScoresSorted \u001b[38;5;241m=\u001b[39m dtScores[inds]\n\u001b[0;32m--> 369\u001b[0m dtm  \u001b[38;5;241m=\u001b[39m \u001b[43mnp\u001b[49m\u001b[38;5;241;43m.\u001b[39;49m\u001b[43mconcatenate\u001b[49m\u001b[43m(\u001b[49m\u001b[43m[\u001b[49m\u001b[43me\u001b[49m\u001b[43m[\u001b[49m\u001b[38;5;124;43m'\u001b[39;49m\u001b[38;5;124;43mdtMatches\u001b[39;49m\u001b[38;5;124;43m'\u001b[39;49m\u001b[43m]\u001b[49m\u001b[43m[\u001b[49m\u001b[43m:\u001b[49m\u001b[43m,\u001b[49m\u001b[38;5;241;43m0\u001b[39;49m\u001b[43m:\u001b[49m\u001b[43mmaxDet\u001b[49m\u001b[43m]\u001b[49m\u001b[43m \u001b[49m\u001b[38;5;28;43;01mfor\u001b[39;49;00m\u001b[43m \u001b[49m\u001b[43me\u001b[49m\u001b[43m \u001b[49m\u001b[38;5;129;43;01min\u001b[39;49;00m\u001b[43m \u001b[49m\u001b[43mE\u001b[49m\u001b[43m]\u001b[49m\u001b[43m,\u001b[49m\u001b[43m \u001b[49m\u001b[43maxis\u001b[49m\u001b[38;5;241;43m=\u001b[39;49m\u001b[38;5;241;43m1\u001b[39;49m\u001b[43m)\u001b[49m[:,inds]\n\u001b[1;32m    370\u001b[0m dtIg \u001b[38;5;241m=\u001b[39m np\u001b[38;5;241m.\u001b[39mconcatenate([e[\u001b[38;5;124m'\u001b[39m\u001b[38;5;124mdtIgnore\u001b[39m\u001b[38;5;124m'\u001b[39m][:,\u001b[38;5;241m0\u001b[39m:maxDet]  \u001b[38;5;28;01mfor\u001b[39;00m e \u001b[38;5;129;01min\u001b[39;00m E], axis\u001b[38;5;241m=\u001b[39m\u001b[38;5;241m1\u001b[39m)[:,inds]\n\u001b[1;32m    371\u001b[0m gtIg \u001b[38;5;241m=\u001b[39m np\u001b[38;5;241m.\u001b[39mconcatenate([e[\u001b[38;5;124m'\u001b[39m\u001b[38;5;124mgtIgnore\u001b[39m\u001b[38;5;124m'\u001b[39m] \u001b[38;5;28;01mfor\u001b[39;00m e \u001b[38;5;129;01min\u001b[39;00m E])\n",
      "\u001b[0;31mKeyboardInterrupt\u001b[0m: "
     ]
    }
   ],
   "source": [
    "from torchmetrics.detection import MeanAveragePrecision\n",
    "\n",
    "# randam dummy predictions\n",
    "N = 10000\n",
    "preds = []\n",
    "for i in range(N):\n",
    "    boxes = torch.randint(0, 100, (100, 4))\n",
    "    labels = torch.randint(0, 10, (100,))\n",
    "    scores = torch.rand(100)\n",
    "\n",
    "    # to cuda\n",
    "    boxes = boxes.cuda()\n",
    "    labels = labels.cuda()\n",
    "    scores = scores.cuda()\n",
    "\n",
    "    preds.append({\"boxes\": boxes, \"labels\": labels, \"scores\": scores})\n",
    "\n",
    "gt = []\n",
    "for i in range(N):\n",
    "    boxes = torch.randint(0, 100, (10, 4))\n",
    "    labels = torch.randint(0, 10, (10,))\n",
    "\n",
    "    # to cuda\n",
    "    boxes = boxes.cuda()\n",
    "    labels = labels.cuda()\n",
    "\n",
    "    gt.append({\"boxes\": boxes, \"labels\": labels})\n",
    "\n",
    "mAP = MeanAveragePrecision(box_format=\"cxcywh\")\n",
    "mAP.update(preds, gt)\n",
    "mAP.cpu()\n",
    "mAP.compute()"
   ]
  },
  {
   "cell_type": "code",
   "execution_count": 24,
   "metadata": {},
   "outputs": [],
   "source": [
    "def compute_map(baseline):\n",
    "    with open(f\"../baselines/{baseline}.json\") as f:\n",
    "        baseline = json.load(f)\n",
    "\n",
    "    day_preds = to_tensor(baseline[\"frames\"], score=True, timeofday=\"daytime\")\n",
    "    night_preds = to_tensor(baseline[\"frames\"], score=True, timeofday=\"night\")\n",
    "\n",
    "    iou_thresholds = [0.5, 0.55, 0.6, 0.65, 0.7, 0.75, 0.8, 0.85, 0.9, 0.95]\n",
    "    day_map = MeanAveragePrecision(\"xyxy\", \"bbox\", iou_thresholds=iou_thresholds)\n",
    "    night_map = MeanAveragePrecision(\"xyxy\", \"bbox\", iou_thresholds=iou_thresholds)\n",
    "\n",
    "    print(len(day_preds), len(night_preds))\n",
    "\n",
    "    day_map.update(day_preds, day)\n",
    "    night_map.update(night_preds, night)\n",
    "\n",
    "    return day_map.compute(), night_map.compute()"
   ]
  },
  {
   "cell_type": "code",
   "execution_count": 25,
   "metadata": {},
   "outputs": [
    {
     "name": "stdout",
     "output_type": "stream",
     "text": [
      "0 0\n"
     ]
    },
    {
     "ename": "ValueError",
     "evalue": "Expected argument `preds` and `target` to have the same length, but got 0 and 36728",
     "output_type": "error",
     "traceback": [
      "\u001b[0;31m---------------------------------------------------------------------------\u001b[0m",
      "\u001b[0;31mValueError\u001b[0m                                Traceback (most recent call last)",
      "Cell \u001b[0;32mIn[25], line 1\u001b[0m\n\u001b[0;32m----> 1\u001b[0m result \u001b[38;5;241m=\u001b[39m \u001b[43mcompute_map\u001b[49m\u001b[43m(\u001b[49m\u001b[38;5;124;43m\"\u001b[39;49m\u001b[38;5;124;43mcascade_rcnn_swin-t_fpn_3x_det_bdd100k\u001b[39;49m\u001b[38;5;124;43m\"\u001b[39;49m\u001b[43m)\u001b[49m\n\u001b[1;32m      2\u001b[0m \u001b[38;5;28mprint\u001b[39m(result)\n",
      "Cell \u001b[0;32mIn[24], line 14\u001b[0m, in \u001b[0;36mcompute_map\u001b[0;34m(baseline)\u001b[0m\n\u001b[1;32m     10\u001b[0m night_map \u001b[38;5;241m=\u001b[39m MeanAveragePrecision(\u001b[38;5;124m\"\u001b[39m\u001b[38;5;124mxyxy\u001b[39m\u001b[38;5;124m\"\u001b[39m, \u001b[38;5;124m\"\u001b[39m\u001b[38;5;124mbbox\u001b[39m\u001b[38;5;124m\"\u001b[39m, iou_thresholds\u001b[38;5;241m=\u001b[39miou_thresholds)\n\u001b[1;32m     12\u001b[0m \u001b[38;5;28mprint\u001b[39m(\u001b[38;5;28mlen\u001b[39m(day_preds), \u001b[38;5;28mlen\u001b[39m(night_preds))\n\u001b[0;32m---> 14\u001b[0m \u001b[43mday_map\u001b[49m\u001b[38;5;241;43m.\u001b[39;49m\u001b[43mupdate\u001b[49m\u001b[43m(\u001b[49m\u001b[43mday_preds\u001b[49m\u001b[43m,\u001b[49m\u001b[43m \u001b[49m\u001b[43mday\u001b[49m\u001b[43m)\u001b[49m\n\u001b[1;32m     15\u001b[0m night_map\u001b[38;5;241m.\u001b[39mupdate(night_preds, night)\n\u001b[1;32m     17\u001b[0m \u001b[38;5;28;01mreturn\u001b[39;00m day_map\u001b[38;5;241m.\u001b[39mcompute(), night_map\u001b[38;5;241m.\u001b[39mcompute()\n",
      "File \u001b[0;32m~/miniconda3/envs/wa/lib/python3.10/site-packages/torchmetrics/metric.py:465\u001b[0m, in \u001b[0;36mMetric._wrap_update.<locals>.wrapped_func\u001b[0;34m(*args, **kwargs)\u001b[0m\n\u001b[1;32m    463\u001b[0m \u001b[38;5;28;01mwith\u001b[39;00m torch\u001b[38;5;241m.\u001b[39mset_grad_enabled(\u001b[38;5;28mself\u001b[39m\u001b[38;5;241m.\u001b[39m_enable_grad):\n\u001b[1;32m    464\u001b[0m     \u001b[38;5;28;01mtry\u001b[39;00m:\n\u001b[0;32m--> 465\u001b[0m         \u001b[43mupdate\u001b[49m\u001b[43m(\u001b[49m\u001b[38;5;241;43m*\u001b[39;49m\u001b[43margs\u001b[49m\u001b[43m,\u001b[49m\u001b[43m \u001b[49m\u001b[38;5;241;43m*\u001b[39;49m\u001b[38;5;241;43m*\u001b[39;49m\u001b[43mkwargs\u001b[49m\u001b[43m)\u001b[49m\n\u001b[1;32m    466\u001b[0m     \u001b[38;5;28;01mexcept\u001b[39;00m \u001b[38;5;167;01mRuntimeError\u001b[39;00m \u001b[38;5;28;01mas\u001b[39;00m err:\n\u001b[1;32m    467\u001b[0m         \u001b[38;5;28;01mif\u001b[39;00m \u001b[38;5;124m\"\u001b[39m\u001b[38;5;124mExpected all tensors to be on\u001b[39m\u001b[38;5;124m\"\u001b[39m \u001b[38;5;129;01min\u001b[39;00m \u001b[38;5;28mstr\u001b[39m(err):\n",
      "File \u001b[0;32m~/miniconda3/envs/wa/lib/python3.10/site-packages/torchmetrics/detection/mean_ap.py:489\u001b[0m, in \u001b[0;36mMeanAveragePrecision.update\u001b[0;34m(self, preds, target)\u001b[0m\n\u001b[1;32m    467\u001b[0m \u001b[38;5;28;01mdef\u001b[39;00m \u001b[38;5;21mupdate\u001b[39m(\u001b[38;5;28mself\u001b[39m, preds: List[Dict[\u001b[38;5;28mstr\u001b[39m, Tensor]], target: List[Dict[\u001b[38;5;28mstr\u001b[39m, Tensor]]) \u001b[38;5;241m-\u001b[39m\u001b[38;5;241m>\u001b[39m \u001b[38;5;28;01mNone\u001b[39;00m:\n\u001b[1;32m    468\u001b[0m \u001b[38;5;250m    \u001b[39m\u001b[38;5;124;03m\"\"\"Update metric state.\u001b[39;00m\n\u001b[1;32m    469\u001b[0m \n\u001b[1;32m    470\u001b[0m \u001b[38;5;124;03m    Raises:\u001b[39;00m\n\u001b[0;32m   (...)\u001b[0m\n\u001b[1;32m    487\u001b[0m \n\u001b[1;32m    488\u001b[0m \u001b[38;5;124;03m    \"\"\"\u001b[39;00m\n\u001b[0;32m--> 489\u001b[0m     \u001b[43m_input_validator\u001b[49m\u001b[43m(\u001b[49m\u001b[43mpreds\u001b[49m\u001b[43m,\u001b[49m\u001b[43m \u001b[49m\u001b[43mtarget\u001b[49m\u001b[43m,\u001b[49m\u001b[43m \u001b[49m\u001b[43miou_type\u001b[49m\u001b[38;5;241;43m=\u001b[39;49m\u001b[38;5;28;43mself\u001b[39;49m\u001b[38;5;241;43m.\u001b[39;49m\u001b[43miou_type\u001b[49m\u001b[43m)\u001b[49m\n\u001b[1;32m    491\u001b[0m     \u001b[38;5;28;01mfor\u001b[39;00m item \u001b[38;5;129;01min\u001b[39;00m preds:\n\u001b[1;32m    492\u001b[0m         bbox_detection, mask_detection \u001b[38;5;241m=\u001b[39m \u001b[38;5;28mself\u001b[39m\u001b[38;5;241m.\u001b[39m_get_safe_item_values(item, warn\u001b[38;5;241m=\u001b[39m\u001b[38;5;28mself\u001b[39m\u001b[38;5;241m.\u001b[39mwarn_on_many_detections)\n",
      "File \u001b[0;32m~/miniconda3/envs/wa/lib/python3.10/site-packages/torchmetrics/detection/helpers.py:39\u001b[0m, in \u001b[0;36m_input_validator\u001b[0;34m(preds, targets, iou_type, ignore_score)\u001b[0m\n\u001b[1;32m     37\u001b[0m     \u001b[38;5;28;01mraise\u001b[39;00m \u001b[38;5;167;01mValueError\u001b[39;00m(\u001b[38;5;124mf\u001b[39m\u001b[38;5;124m\"\u001b[39m\u001b[38;5;124mExpected argument `target` to be of type Sequence, but got \u001b[39m\u001b[38;5;132;01m{\u001b[39;00mtargets\u001b[38;5;132;01m}\u001b[39;00m\u001b[38;5;124m\"\u001b[39m)\n\u001b[1;32m     38\u001b[0m \u001b[38;5;28;01mif\u001b[39;00m \u001b[38;5;28mlen\u001b[39m(preds) \u001b[38;5;241m!=\u001b[39m \u001b[38;5;28mlen\u001b[39m(targets):\n\u001b[0;32m---> 39\u001b[0m     \u001b[38;5;28;01mraise\u001b[39;00m \u001b[38;5;167;01mValueError\u001b[39;00m(\n\u001b[1;32m     40\u001b[0m         \u001b[38;5;124mf\u001b[39m\u001b[38;5;124m\"\u001b[39m\u001b[38;5;124mExpected argument `preds` and `target` to have the same length, but got \u001b[39m\u001b[38;5;132;01m{\u001b[39;00m\u001b[38;5;28mlen\u001b[39m(preds)\u001b[38;5;132;01m}\u001b[39;00m\u001b[38;5;124m and \u001b[39m\u001b[38;5;132;01m{\u001b[39;00m\u001b[38;5;28mlen\u001b[39m(targets)\u001b[38;5;132;01m}\u001b[39;00m\u001b[38;5;124m\"\u001b[39m\n\u001b[1;32m     41\u001b[0m     )\n\u001b[1;32m     43\u001b[0m \u001b[38;5;28;01mfor\u001b[39;00m k \u001b[38;5;129;01min\u001b[39;00m [\u001b[38;5;241m*\u001b[39mitem_val_name, \u001b[38;5;124m\"\u001b[39m\u001b[38;5;124mlabels\u001b[39m\u001b[38;5;124m\"\u001b[39m] \u001b[38;5;241m+\u001b[39m ([\u001b[38;5;124m\"\u001b[39m\u001b[38;5;124mscores\u001b[39m\u001b[38;5;124m\"\u001b[39m] \u001b[38;5;28;01mif\u001b[39;00m \u001b[38;5;129;01mnot\u001b[39;00m ignore_score \u001b[38;5;28;01melse\u001b[39;00m []):\n\u001b[1;32m     44\u001b[0m     \u001b[38;5;28;01mif\u001b[39;00m \u001b[38;5;28many\u001b[39m(k \u001b[38;5;129;01mnot\u001b[39;00m \u001b[38;5;129;01min\u001b[39;00m p \u001b[38;5;28;01mfor\u001b[39;00m p \u001b[38;5;129;01min\u001b[39;00m preds):\n",
      "\u001b[0;31mValueError\u001b[0m: Expected argument `preds` and `target` to have the same length, but got 0 and 36728"
     ]
    }
   ],
   "source": [
    "result = compute_map(\"cascade_rcnn_swin-t_fpn_3x_det_bdd100k\")\n",
    "print(result)"
   ]
  },
  {
   "cell_type": "code",
   "execution_count": null,
   "metadata": {},
   "outputs": [
    {
     "name": "stdout",
     "output_type": "stream",
     "text": [
      "Daytime mAP: 0.2511175274848938 mAP_50: 0.41557979583740234, mAP_75: 0.25299593806266785\n",
      "Nighttime mAP: 0.20862507820129395 mAP_50: 0.3685239851474762, mAP_75: 0.19639737904071808\n"
     ]
    }
   ],
   "source": [
    "print(\n",
    "    \"Daytime mAP: {} mAP_50: {}, mAP_75: {}\".format(\n",
    "        result[0][\"map\"], result[0][\"map_50\"], result[0][\"map_75\"]\n",
    "    )\n",
    ")\n",
    "print(\n",
    "    \"Nighttime mAP: {} mAP_50: {}, mAP_75: {}\".format(\n",
    "        result[1][\"map\"], result[1][\"map_50\"], result[1][\"map_75\"]\n",
    "    )\n",
    ")"
   ]
  },
  {
   "cell_type": "code",
   "execution_count": null,
   "metadata": {},
   "outputs": [],
   "source": [
    "# ConvNeXt + R-CNN\n",
    "# Daytime mAP: 0.26108455657958984 mAP_50: 0.42570289969444275, mAP_75: 0.26357346773147583\n",
    "# Nighttime mAP: 0.20968283712863922 mAP_50: 0.36812451481819153, mAP_75: 0.19964323937892914\n",
    "\n",
    "# RetinaNet\n",
    "# Daytime mAP: 0.23603859543800354 mAP_50: 0.405560702085495, mAP_75: 0.23004977405071259\n",
    "# Nighttime mAP: 0.19778987765312195 mAP_50: 0.3620649576187134, mAP_75: 0.1865830421447754"
   ]
  }
 ],
 "metadata": {
  "kernelspec": {
   "display_name": "wa",
   "language": "python",
   "name": "python3"
  },
  "language_info": {
   "codemirror_mode": {
    "name": "ipython",
    "version": 3
   },
   "file_extension": ".py",
   "mimetype": "text/x-python",
   "name": "python",
   "nbconvert_exporter": "python",
   "pygments_lexer": "ipython3",
   "version": "3.10.13"
  }
 },
 "nbformat": 4,
 "nbformat_minor": 2
}
